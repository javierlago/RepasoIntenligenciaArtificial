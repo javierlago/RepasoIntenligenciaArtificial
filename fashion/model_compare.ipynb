{
 "cells": [
  {
   "cell_type": "markdown",
   "id": "43db579e",
   "metadata": {},
   "source": [
    "# 🔹 Paso 1 – Descargar el dataset desde torchvision\n"
   ]
  },
  {
   "cell_type": "code",
   "execution_count": 4,
   "id": "41bee478",
   "metadata": {},
   "outputs": [
    {
     "name": "stderr",
     "output_type": "stream",
     "text": [
      "100%|██████████| 26.4M/26.4M [00:02<00:00, 10.4MB/s]\n",
      "100%|██████████| 29.5k/29.5k [00:00<00:00, 623kB/s]\n",
      "100%|██████████| 4.42M/4.42M [00:00<00:00, 6.34MB/s]\n",
      "100%|██████████| 5.15k/5.15k [00:00<00:00, 1.20MB/s]\n"
     ]
    }
   ],
   "source": [
    "from torchvision import datasets, transforms\n",
    "from sklearn.model_selection import train_test_split\n",
    "import os\n",
    "import numpy as np\n",
    "from torchvision.datasets import FashionMNIST\n",
    "\n",
    "#Cargamos los dataset sin el transformador\n",
    "train_dataset = FashionMNIST(root='./data', train=True, download=True)\n",
    "test_dataset = FashionMNIST(root='./data', train=False, download=True)\n",
    "\n",
    "\n"
   ]
  },
  {
   "cell_type": "markdown",
   "id": "baa82fc9",
   "metadata": {},
   "source": [
    "# 🔹 Paso 2 – Extraer datos crudos"
   ]
  },
  {
   "cell_type": "code",
   "execution_count": 5,
   "id": "2354ceb6",
   "metadata": {},
   "outputs": [],
   "source": [
    "# Convertimos los datos a numpy arrays\n",
    "\n",
    "X_train = train_dataset.data.numpy()\n",
    "y_train = train_dataset.targets.numpy()\n",
    "\n",
    "#Dividimos el dataset en train y validation\n",
    "X_train, X_val, y_train, y_val = train_test_split(X_train, y_train, test_size=0.2, random_state=42)\n",
    "\n",
    "# Datos del test sin cambios\n",
    "X_test = test_dataset.data.numpy()\n",
    "y_test = test_dataset.targets.numpy()\n"
   ]
  },
  {
   "cell_type": "markdown",
   "id": "5edd3096",
   "metadata": {},
   "source": [
    "# 🔹 Paso 3 – Preprocesado para Random Forest"
   ]
  },
  {
   "cell_type": "code",
   "execution_count": 8,
   "id": "3af7f667",
   "metadata": {},
   "outputs": [
    {
     "ename": "SyntaxError",
     "evalue": "(unicode error) 'utf-8' codec can't decode byte 0xfa in position 13: invalid start byte (utils.py, line 4)",
     "output_type": "error",
     "traceback": [
      "Traceback \u001b[36m(most recent call last)\u001b[39m:\n",
      "  File \u001b[92m~/global_enviroment/lib/python3.12/site-packages/IPython/core/interactiveshell.py:3549\u001b[39m in \u001b[95mrun_code\u001b[39m\n    exec(code_obj, self.user_global_ns, self.user_ns)\n",
      "\u001b[36m  \u001b[39m\u001b[36mCell\u001b[39m\u001b[36m \u001b[39m\u001b[32mIn[8]\u001b[39m\u001b[32m, line 1\u001b[39m\n\u001b[31m    \u001b[39m\u001b[31mfrom utils import scale_datasets\u001b[39m\n",
      "  \u001b[36mFile \u001b[39m\u001b[32m~/ia24/fashion/utils.py:4\u001b[39m\n\u001b[31m    \u001b[39m\u001b[31m\"\"\"\u001b[39m\n    ^\n\u001b[31mSyntaxError\u001b[39m\u001b[31m:\u001b[39m (unicode error) 'utf-8' codec can't decode byte 0xfa in position 13: invalid start byte\n"
     ]
    }
   ],
   "source": [
    "from utils import scale_datasets\n",
    "\n",
    "# Aplanamos los datos para que tengan la forma (num_samples, 1, 28, 28)\n",
    "X_train_flat = X_train.reshape(-1, 28*28)\n",
    "X_val_flat = X_val.reshape(-1, 28*28)\n",
    "X_test_flat = X_test.reshape(-1, 28*28)\n",
    "\n",
    "\n",
    "# O si quieres quedarte con el scaler para aplicarlo luego al test\n",
    "scaled_sets, scaler = scale_datasets([X_train_flat, X_val_flat,X_test_flat], method='minmax', return_scaler=True)\n",
    "X_train_scaled, X_val_scaled ,X_test_scaled= scaled_sets"
   ]
  }
 ],
 "metadata": {
  "kernelspec": {
   "display_name": "Python (global_enviroment)",
   "language": "python",
   "name": "global_enviroment"
  },
  "language_info": {
   "codemirror_mode": {
    "name": "ipython",
    "version": 3
   },
   "file_extension": ".py",
   "mimetype": "text/x-python",
   "name": "python",
   "nbconvert_exporter": "python",
   "pygments_lexer": "ipython3",
   "version": "3.12.3"
  }
 },
 "nbformat": 4,
 "nbformat_minor": 5
}
